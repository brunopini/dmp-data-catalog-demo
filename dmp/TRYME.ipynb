{
 "cells": [
  {
   "cell_type": "code",
   "execution_count": 1,
   "metadata": {},
   "outputs": [],
   "source": [
    "from catalog import Local\n",
    "\n",
    "from pprint import pprint"
   ]
  },
  {
   "cell_type": "markdown",
   "metadata": {},
   "source": [
    "# Demo"
   ]
  },
  {
   "cell_type": "markdown",
   "metadata": {},
   "source": [
    "## `Catalog`"
   ]
  },
  {
   "cell_type": "markdown",
   "metadata": {},
   "source": [
    "Instantiate `Local` class and pass local bucket path:"
   ]
  },
  {
   "cell_type": "code",
   "execution_count": 2,
   "metadata": {},
   "outputs": [],
   "source": [
    "catalog = Local('../bucket')"
   ]
  },
  {
   "cell_type": "markdown",
   "metadata": {},
   "source": [
    "When remote, the `bucket` attribute represents the authenticated bucket object; when local, the path the directory serving as the bucket:"
   ]
  },
  {
   "cell_type": "code",
   "execution_count": 3,
   "metadata": {},
   "outputs": [
    {
     "data": {
      "text/plain": [
       "'../bucket'"
      ]
     },
     "execution_count": 3,
     "metadata": {},
     "output_type": "execute_result"
    }
   ],
   "source": [
    "catalog.bucket"
   ]
  },
  {
   "cell_type": "markdown",
   "metadata": {},
   "source": [
    "Last main attribute `audiences` maps state file configurations and the data available in the bucket. This attribute behaves as a generator that instantiates the `Audience` class for each audience state file found:"
   ]
  },
  {
   "cell_type": "code",
   "execution_count": 4,
   "metadata": {},
   "outputs": [
    {
     "data": {
      "text/plain": [
       "<generator object Local._fetch_audiences at 0x1093e68c0>"
      ]
     },
     "execution_count": 4,
     "metadata": {},
     "output_type": "execute_result"
    }
   ],
   "source": [
    "catalog.audiences"
   ]
  },
  {
   "cell_type": "markdown",
   "metadata": {},
   "source": [
    "When iterating, generator will yield one instance at a time, reducing the memory usage:"
   ]
  },
  {
   "cell_type": "code",
   "execution_count": 5,
   "metadata": {},
   "outputs": [
    {
     "name": "stdout",
     "output_type": "stream",
     "text": [
      "demo_audience\n"
     ]
    }
   ],
   "source": [
    "for audience in catalog.audiences:\n",
    "    print(audience.name)"
   ]
  },
  {
   "cell_type": "markdown",
   "metadata": {},
   "source": [
    "## `Audience`"
   ]
  },
  {
   "cell_type": "code",
   "execution_count": 6,
   "metadata": {},
   "outputs": [],
   "source": [
    "from audience import Audience\n",
    "# Reset catalog instance to reset `audiences` generator function and iterate through attribute again.\n",
    "catalog = Local('../bucket')"
   ]
  },
  {
   "cell_type": "markdown",
   "metadata": {},
   "source": [
    "Each Audience class instance represents the state of the give audience:"
   ]
  },
  {
   "cell_type": "code",
   "execution_count": 7,
   "metadata": {},
   "outputs": [
    {
     "data": {
      "text/plain": [
       "<audience.Audience at 0x11918ca10>"
      ]
     },
     "execution_count": 7,
     "metadata": {},
     "output_type": "execute_result"
    }
   ],
   "source": [
    "audience: Audience = next(catalog.audiences)\n",
    "audience"
   ]
  },
  {
   "cell_type": "markdown",
   "metadata": {},
   "source": [
    "Attributes store specific information:"
   ]
  },
  {
   "cell_type": "code",
   "execution_count": 8,
   "metadata": {},
   "outputs": [
    {
     "data": {
      "text/plain": [
       "'A demo audience shared between two adtechs.'"
      ]
     },
     "execution_count": 8,
     "metadata": {},
     "output_type": "execute_result"
    }
   ],
   "source": [
    "audience.description"
   ]
  },
  {
   "cell_type": "markdown",
   "metadata": {},
   "source": [
    "`state` property represents the most up-to-date states of all audience components:\n",
    "\n",
    "> Compare this state with the last state printed at the end of this demo."
   ]
  },
  {
   "cell_type": "code",
   "execution_count": 9,
   "metadata": {},
   "outputs": [
    {
     "name": "stdout",
     "output_type": "stream",
     "text": [
      "{'demo_audience': {'adtechA': {'audience_type': 'TYPE_X',\n",
      "                               'id': None,\n",
      "                               'last_response': {'date': None,\n",
      "                                                 'message': None,\n",
      "                                                 'status': None},\n",
      "                               'name': 'demo_audience'},\n",
      "                   'adtechB': {'expiration_time': 300,\n",
      "                               'id': None,\n",
      "                               'last_response': {'date': None,\n",
      "                                                 'message': None,\n",
      "                                                 'status': None},\n",
      "                               'name': 'demo_audience'},\n",
      "                   'description': 'A demo audience shared between two adtechs.',\n",
      "                   'source': {'endpoint': 'test/',\n",
      "                              'last_response': {'date': '20231107',\n",
      "                                                'message': 'Success: Demo '\n",
      "                                                           'response message.',\n",
      "                                                'status': 200},\n",
      "                              'params': {'test': True}}}}\n"
     ]
    }
   ],
   "source": [
    "pprint(audience.state)"
   ]
  },
  {
   "cell_type": "markdown",
   "metadata": {},
   "source": [
    "Three components are: `ApiGateway`, `AdtechA`, `AdtechB`. Each component is both an `Audience` instance attribute and a dedicated class instance:"
   ]
  },
  {
   "cell_type": "code",
   "execution_count": 10,
   "metadata": {},
   "outputs": [
    {
     "name": "stdout",
     "output_type": "stream",
     "text": [
      "<datasource.apigateway.ApiGateway object at 0x119357f50>\n",
      "<adtechs.adtechA.AdtechA object at 0x118fc38d0>\n",
      "<adtechs.adtechB.AdtechB object at 0x1093f0610>\n"
     ]
    }
   ],
   "source": [
    "print(audience.source)\n",
    "print(audience.adtech_a)\n",
    "print(audience.adtech_b)"
   ]
  },
  {
   "cell_type": "markdown",
   "metadata": {},
   "source": [
    "## `Adtech`"
   ]
  },
  {
   "cell_type": "markdown",
   "metadata": {},
   "source": [
    "Each adtech instance attribute will contain specific attributes of that specific adtech:"
   ]
  },
  {
   "cell_type": "code",
   "execution_count": 11,
   "metadata": {},
   "outputs": [
    {
     "name": "stdout",
     "output_type": "stream",
     "text": [
      "Type: AudienceType.TYPE_X | Value: TYPE_X\n",
      "Type: <adtechs.adtechB.AdtechB.ExpirationTime object at 0x11918dd10> | Value: 300\n"
     ]
    }
   ],
   "source": [
    "print(f'Type: {audience.adtech_a.audience_type} | Value: {audience.adtech_a.audience_type.value}')\n",
    "print(f'Type: {audience.adtech_b.expiration_time} | Value: {audience.adtech_b.expiration_time.value}')"
   ]
  },
  {
   "cell_type": "markdown",
   "metadata": {},
   "source": [
    "`Status` indicates if audience is updloaded or not:"
   ]
  },
  {
   "cell_type": "code",
   "execution_count": 12,
   "metadata": {},
   "outputs": [
    {
     "name": "stdout",
     "output_type": "stream",
     "text": [
      "Status.NOT_POSTED\n",
      "Status.NOT_POSTED\n"
     ]
    }
   ],
   "source": [
    "print(audience.adtech_a.status)\n",
    "print(audience.adtech_b.status)"
   ]
  },
  {
   "cell_type": "markdown",
   "metadata": {},
   "source": [
    "Payloads can be accessed via the attribute, when Status is `NOT_POSTED`:"
   ]
  },
  {
   "cell_type": "code",
   "execution_count": 13,
   "metadata": {},
   "outputs": [
    {
     "name": "stdout",
     "output_type": "stream",
     "text": [
      "{'data': [[{'emails': ['e6785a6df76f8b324a6153b506febf690b118d1f1a977da4a64b6e3c2ba57cfe'],\n",
      "            'phoneNumbers': ['3e2425cbe51afa26dea57686b9d2fba24136b4aa8fe8d47216ccd45c1f0a51b3'],\n",
      "            'zipCodes': ['8dbdccef2106bebd59fdf2b0fd147a2f17607e1c1b3a574122c14b153171858a']},\n",
      "           {'emails': ['d151868068e2336d305809bf706becee99c79f0c71e016fb249b1ae2c643fee3'],\n",
      "            'phoneNumbers': ['9ff62babcd637c1149f95f89725144fa40ce1d8a3cb9ce0cf00c580be97fc769'],\n",
      "            'zipCodes': ['ab75305e5f7dd91ee5564f4136af3d63b1d125888928ee70f63df71432d5795c']}]],\n",
      " 'description': 'A demo audience shared between two adtechs.',\n",
      " 'name': 'demo_audience',\n",
      " 'type': 'TYPE_X'}\n",
      "\n",
      "\n",
      "{'data': [[['e6785a6df76f8b324a6153b506febf690b118d1f1a977da4a64b6e3c2ba57cfe'],\n",
      "           ['3e2425cbe51afa26dea57686b9d2fba24136b4aa8fe8d47216ccd45c1f0a51b3'],\n",
      "           ['8dbdccef2106bebd59fdf2b0fd147a2f17607e1c1b3a574122c14b153171858a']],\n",
      "          [['d151868068e2336d305809bf706becee99c79f0c71e016fb249b1ae2c643fee3'],\n",
      "           ['9ff62babcd637c1149f95f89725144fa40ce1d8a3cb9ce0cf00c580be97fc769'],\n",
      "           ['ab75305e5f7dd91ee5564f4136af3d63b1d125888928ee70f63df71432d5795c']]],\n",
      " 'description': 'A demo audience shared between two adtechs.',\n",
      " 'expiration': 300,\n",
      " 'name': 'demo_audience',\n",
      " 'schema': ['EMAIL', 'PHONE', 'ZIP']}\n"
     ]
    }
   ],
   "source": [
    "pprint(audience.adtech_a.payload)\n",
    "print('\\n')\n",
    "pprint(audience.adtech_b.payload)"
   ]
  },
  {
   "cell_type": "markdown",
   "metadata": {},
   "source": [
    "## In Action"
   ]
  },
  {
   "cell_type": "code",
   "execution_count": 14,
   "metadata": {},
   "outputs": [
    {
     "name": "stdout",
     "output_type": "stream",
     "text": [
      "\n",
      "\n",
      "{'demo_audience': {'adtechA': {'audience_type': 'TYPE_X',\n",
      "                               'id': '123456789',\n",
      "                               'last_response': {'date': '20231107',\n",
      "                                                 'message': 'Success: Demo '\n",
      "                                                            'response message.',\n",
      "                                                 'status': 200},\n",
      "                               'name': 'demo_audience'},\n",
      "                   'adtechB': {'expiration_time': 300,\n",
      "                               'id': '0987654321',\n",
      "                               'last_response': {'date': '20231107',\n",
      "                                                 'message': 'Success: Demo '\n",
      "                                                            'response message.',\n",
      "                                                 'status': 200},\n",
      "                               'name': 'demo_audience'},\n",
      "                   'description': 'A demo audience shared between two adtechs.',\n",
      "                   'source': {'endpoint': 'test/',\n",
      "                              'last_response': {'date': '20231107',\n",
      "                                                'message': 'Success: Demo '\n",
      "                                                           'response message.',\n",
      "                                                'status': 200},\n",
      "                              'params': {'test': True}}}}\n"
     ]
    }
   ],
   "source": [
    "catalog = Local('../bucket')\n",
    "\n",
    "for audience in catalog.audiences:\n",
    "    if audience.adtech_a.status.value == 0:\n",
    "        audience.adtech_a.upload()\n",
    "\n",
    "    if audience.adtech_b.status.value == 0:\n",
    "        audience.adtech_b.upload()\n",
    "\n",
    "    print('\\n')\n",
    "    pprint(audience.state)\n",
    "    catalog.push_state(audience)"
   ]
  },
  {
   "cell_type": "markdown",
   "metadata": {},
   "source": [
    "Check for updates status:"
   ]
  },
  {
   "cell_type": "code",
   "execution_count": 15,
   "metadata": {},
   "outputs": [
    {
     "name": "stdout",
     "output_type": "stream",
     "text": [
      "Status.POSTED\n",
      "Status.POSTED\n"
     ]
    }
   ],
   "source": [
    "# Instantiate bucket again to access generator:\n",
    "catalog = Local('../bucket')\n",
    "\n",
    "for audience in catalog.audiences:\n",
    "    print(audience.adtech_a.status)\n",
    "    print(audience.adtech_b.status)"
   ]
  }
 ],
 "metadata": {
  "kernelspec": {
   "display_name": "tim-ads-push-audiences-3116",
   "language": "python",
   "name": "python3"
  },
  "language_info": {
   "codemirror_mode": {
    "name": "ipython",
    "version": 3
   },
   "file_extension": ".py",
   "mimetype": "text/x-python",
   "name": "python",
   "nbconvert_exporter": "python",
   "pygments_lexer": "ipython3",
   "version": "3.11.6"
  }
 },
 "nbformat": 4,
 "nbformat_minor": 2
}
